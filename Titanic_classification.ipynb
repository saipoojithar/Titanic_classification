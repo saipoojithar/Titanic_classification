{
  "nbformat": 4,
  "nbformat_minor": 0,
  "metadata": {
    "colab": {
      "provenance": [],
      "authorship_tag": "ABX9TyOAP7NaNUJ0FG1nzeXBeoWK",
      "include_colab_link": true
    },
    "kernelspec": {
      "name": "python3",
      "display_name": "Python 3"
    },
    "language_info": {
      "name": "python"
    }
  },
  "cells": [
    {
      "cell_type": "markdown",
      "metadata": {
        "id": "view-in-github",
        "colab_type": "text"
      },
      "source": [
        "<a href=\"https://colab.research.google.com/github/saipoojithar/Titanic_classification/blob/main/Titanic_classification.ipynb\" target=\"_parent\"><img src=\"https://colab.research.google.com/assets/colab-badge.svg\" alt=\"Open In Colab\"/></a>"
      ]
    },
    {
      "cell_type": "code",
      "execution_count": 6,
      "metadata": {
        "colab": {
          "base_uri": "https://localhost:8080/"
        },
        "id": "LCk1q8Pbvaas",
        "outputId": "c4aafcdd-3407-409f-cb1e-c6a2f87f3633"
      },
      "outputs": [
        {
          "output_type": "stream",
          "name": "stdout",
          "text": [
            "Accuracy: 0.73\n",
            "Classification Report:\n",
            "               precision    recall  f1-score   support\n",
            "\n",
            "           0       0.78      0.88      0.83       192\n",
            "           1       0.50      0.33      0.40        70\n",
            "\n",
            "    accuracy                           0.73       262\n",
            "   macro avg       0.64      0.60      0.61       262\n",
            "weighted avg       0.71      0.73      0.71       262\n",
            "\n"
          ]
        }
      ],
      "source": [
        "# Import necessary libraries\n",
        "import pandas as pd\n",
        "import numpy as np\n",
        "from sklearn.model_selection import train_test_split\n",
        "from sklearn.ensemble import RandomForestClassifier\n",
        "from sklearn.metrics import accuracy_score, classification_report\n",
        "\n",
        "# Load the Titanic dataset (assuming you have a CSV file)\n",
        "titanic_data = pd.read_csv('/content/train_and_test2.csv')\n",
        "\n",
        "# Preprocessing: Handle missing values, encode categorical variables, and select features\n",
        "titanic_data = titanic_data.dropna()  # Remove rows with missing values for simplicity\n",
        "titanic_data = pd.get_dummies(titanic_data, columns=['Sex', 'Pclass',])  # One-hot encode categorical variables\n",
        "\n",
        "# Define the features (X) and the target variable (y)\n",
        "features = ['Age', 'Fare',  'Parch', 'Pclass_1', 'Pclass_2', 'Pclass_3',]\n",
        "X = titanic_data[features]\n",
        "y = titanic_data[\"2urvived\"]\n",
        "\n",
        "# Split the dataset into training and testing sets\n",
        "X_train, X_test, y_train, y_test = train_test_split(X, y, test_size=0.2, random_state=42)\n",
        "\n",
        "# Create a RandomForestClassifier model\n",
        "clf = RandomForestClassifier(n_estimators=100, random_state=42)\n",
        "\n",
        "# Train the model\n",
        "clf.fit(X_train, y_train)\n",
        "\n",
        "# Make predictions\n",
        "y_pred = clf.predict(X_test)\n",
        "\n",
        "# Evaluate the model\n",
        "accuracy = accuracy_score(y_test, y_pred)\n",
        "print(f'Accuracy: {accuracy:.2f}')\n",
        "\n",
        "# Generate a classification report\n",
        "class_report = classification_report(y_test, y_pred)\n",
        "print('Classification Report:\\n', class_report)\n",
        "\n",
        "# Now, you can use this model to make predictions on new data by providing the same features used during training.\n"
      ]
    },
    {
      "cell_type": "code",
      "source": [],
      "metadata": {
        "id": "aQ7zQkXfveq6"
      },
      "execution_count": null,
      "outputs": []
    }
  ]
}